{
 "cells": [
  {
   "cell_type": "code",
   "execution_count": 1,
   "metadata": {
    "collapsed": false
   },
   "outputs": [
    {
     "name": "stderr",
     "output_type": "stream",
     "text": [
      "Using TensorFlow backend.\n"
     ]
    },
    {
     "name": "stdout",
     "output_type": "stream",
     "text": [
      "x_train shape: (60000, 28, 28, 1)\n",
      "60000 train samples\n",
      "10000 test samples\n",
      "Train on 48000 samples, validate on 12000 samples\n",
      "Epoch 1/12\n",
      "48000/48000 [==============================] - 374s 8ms/step - loss: 0.6290 - acc: 0.8110 - val_loss: 3.7780 - val_acc: 0.1863\n",
      "Epoch 2/12\n",
      "48000/48000 [==============================] - 390s 8ms/step - loss: 0.3721 - acc: 0.8663 - val_loss: 0.2865 - val_acc: 0.8927\n",
      "Epoch 3/12\n",
      "48000/48000 [==============================] - 388s 8ms/step - loss: 0.3351 - acc: 0.8769 - val_loss: 0.2773 - val_acc: 0.9013\n",
      "Epoch 4/12\n",
      "48000/48000 [==============================] - 374s 8ms/step - loss: 0.3114 - acc: 0.8859 - val_loss: 0.2535 - val_acc: 0.9053\n",
      "Epoch 5/12\n",
      "48000/48000 [==============================] - 381s 8ms/step - loss: 0.2918 - acc: 0.8939 - val_loss: 0.2447 - val_acc: 0.9126\n",
      "Epoch 6/12\n",
      "48000/48000 [==============================] - 411s 9ms/step - loss: 0.2842 - acc: 0.8975 - val_loss: 0.2583 - val_acc: 0.9089\n",
      "Epoch 7/12\n",
      "48000/48000 [==============================] - 396s 8ms/step - loss: 0.2740 - acc: 0.9011 - val_loss: 0.2415 - val_acc: 0.9134\n",
      "Epoch 8/12\n",
      "48000/48000 [==============================] - 392s 8ms/step - loss: 0.2623 - acc: 0.9044 - val_loss: 0.2339 - val_acc: 0.9166\n",
      "Epoch 9/12\n",
      "48000/48000 [==============================] - 503s 10ms/step - loss: 0.2639 - acc: 0.9043 - val_loss: 0.2335 - val_acc: 0.9172\n",
      "Epoch 10/12\n",
      "48000/48000 [==============================] - 469s 10ms/step - loss: 0.2570 - acc: 0.9068 - val_loss: 0.2351 - val_acc: 0.9192\n",
      "Epoch 11/12\n",
      "48000/48000 [==============================] - 394s 8ms/step - loss: 0.2492 - acc: 0.9096 - val_loss: 0.2533 - val_acc: 0.9164\n",
      "Epoch 12/12\n",
      "48000/48000 [==============================] - 465s 10ms/step - loss: 0.2514 - acc: 0.9091 - val_loss: 0.2250 - val_acc: 0.9196\n",
      "Test loss: 0.245943645543\n",
      "Test accuracy: 0.9141\n"
     ]
    }
   ],
   "source": [
    "'''Trains a simple convnet on the Zalando MNIST dataset.\n",
    "Gets to 81.03% test accuracy after 30 epochs\n",
    "(there is still a lot of margin for parameter tuning).\n",
    "3 seconds per epoch on a GeForce GTX 980 GPU with CuDNN 5.\n",
    "'''\n",
    "\n",
    "from __future__ import print_function\n",
    "import numpy as np\n",
    "import mnist_reader as mr\n",
    "import keras\n",
    "from keras.models import Sequential\n",
    "from keras.layers import Dense, Dropout, Flatten\n",
    "from keras.layers import Conv2D, MaxPooling2D\n",
    "# import BatchNormalization\n",
    "from keras.layers.normalization import BatchNormalization\n",
    "from keras import backend as K\n",
    "\n",
    "batch_size = 128\n",
    "num_classes = 10\n",
    "epochs = 12\n",
    "\n",
    "# input image dimensions\n",
    "img_rows, img_cols = 28, 28\n",
    "\n",
    "# the data, shuffled and split between train and test sets\n",
    "x_train, y_train = mr.load_mnist('data/fashion', kind='train')\n",
    "x_test, y_test = mr.load_mnist('data/fashion', kind='t10k')\n",
    "\n",
    "x_train = np.array(x_train)\n",
    "y_train = np.array(y_train)\n",
    "x_test = np.array(x_test)\n",
    "y_test = np.array(y_test)\n",
    "\n",
    "if K.image_data_format() == 'channels_first':\n",
    "    x_train = x_train.reshape(x_train.shape[0], 1, img_rows, img_cols)\n",
    "    x_test = x_test.reshape(x_test.shape[0], 1, img_rows, img_cols)\n",
    "    input_shape = (1, img_rows, img_cols)\n",
    "else:\n",
    "    x_train = x_train.reshape(x_train.shape[0], img_rows, img_cols, 1)\n",
    "    x_test = x_test.reshape(x_test.shape[0], img_rows, img_cols, 1)\n",
    "    input_shape = (img_rows, img_cols, 1)\n",
    "\n",
    "x_train = x_train.astype('float32')\n",
    "x_test = x_test.astype('float32')\n",
    "x_train /= 255\n",
    "x_test /= 255\n",
    "print('x_train shape:', x_train.shape)\n",
    "print(x_train.shape[0], 'train samples')\n",
    "print(x_test.shape[0], 'test samples')\n",
    "\n",
    "# convert class vectors to binary class matrices\n",
    "y_train = keras.utils.to_categorical(y_train, num_classes)\n",
    "y_test = keras.utils.to_categorical(y_test, num_classes)\n",
    "\n",
    "model = Sequential()\n",
    "model.add(Conv2D(32, kernel_size=(3, 3),\n",
    "                 activation='relu',\n",
    "                 input_shape=input_shape))\n",
    "model.add(BatchNormalization())\n",
    "model.add(Conv2D(64, (3, 3), activation='relu'))\n",
    "model.add(BatchNormalization())\n",
    "model.add(MaxPooling2D(pool_size=(2, 2)))\n",
    "model.add(Dropout(0.5))\n",
    "model.add(Flatten())\n",
    "model.add(BatchNormalization())\n",
    "model.add(Dense(128, activation='relu'))\n",
    "model.add(Dropout(0.5))\n",
    "model.add(Dense(num_classes, activation='softmax'))\n",
    "\n",
    "nadam = keras.optimizers.Nadam(lr=0.002)\n",
    "model.compile(loss=keras.losses.categorical_crossentropy,\n",
    "              optimizer=nadam,\n",
    "              metrics=['accuracy'])\n",
    "final_record = model.fit(x_train, y_train,\n",
    "          batch_size=batch_size,\n",
    "          epochs=epochs,\n",
    "          verbose=1,\n",
    "          validation_split=0.2)\n",
    "score = model.evaluate(x_test, y_test, verbose=0)\n",
    "print('Test loss:', score[0])\n",
    "print('Test accuracy:', score[1])"
   ]
  },
  {
   "cell_type": "code",
   "execution_count": 2,
   "metadata": {
    "collapsed": false
   },
   "outputs": [
    {
     "data": {
      "image/png": "[encoded data removed]",
      "text/plain": [
       "<matplotlib.figure.Figure at 0x118249390>"
      ]
     },
     "metadata": {},
     "output_type": "display_data"
    }
   ],
   "source": [
    "#Plot iter accuracy curve\n",
    "#Store your every iter number and accuracy in tow numpy array \"iter_log\" and \"accuracy_log\"\n",
    "import matplotlib.pyplot as plt\n",
    "%matplotlib inline\n",
    "iter_log = np.empty((0,12),int)\n",
    "train_loss = np.empty((0,12),int)\n",
    "val_loss = np.empty((0,12),int)\n",
    "for i in range(0,12):\n",
    "    iter_log = np.append(iter_log,i)\n",
    "    \n",
    "train_acc = final_record.history['acc']\n",
    "val_acc = final_record.history['val_acc']\n",
    "\n",
    "ax = plt.subplot(111)\n",
    "plt.plot(iter_log, train_acc, label='train-acc', color=\"#1f77b4\", linewidth=3)\n",
    "plt.plot(iter_log, val_acc, label='val-acc', color=\"#e377c2\", linewidth=3)\n",
    "ax.legend(loc='upper center', bbox_to_anchor=(0.5, 0.2),  shadow=True, ncol=2)\n",
    "plt.show()"
   ]
  },
  {
   "cell_type": "code",
   "execution_count": 3,
   "metadata": {
    "collapsed": false
   },
   "outputs": [
    {
     "data": {
      "image/png": "[encoded data removed]",
      "text/plain": [
       "<matplotlib.figure.Figure at 0x117a64510>"
      ]
     },
     "metadata": {},
     "output_type": "display_data"
    }
   ],
   "source": [
    "#Plot iter accuracy curve\n",
    "#Store your every iter number and accuracy in tow numpy array \"iter_log\" and \"accuracy_log\"\n",
    "import matplotlib.pyplot as plt\n",
    "%matplotlib inline\n",
    "iter_log = np.empty((0,12),int)\n",
    "train_loss = np.empty((0,12),int)\n",
    "val_loss = np.empty((0,12),int)\n",
    "for i in range(0,12):\n",
    "    iter_log = np.append(iter_log,i)\n",
    "    \n",
    "train_loss = final_record.history['loss']\n",
    "val_loss = final_record.history['val_loss']\n",
    "\n",
    "ax = plt.subplot(111)\n",
    "plt.plot(iter_log, train_loss, label='train-loss', color=\"#1f77b4\", linewidth=3)\n",
    "plt.plot(iter_log, val_loss, label='val-loss', color=\"#e377c2\", linewidth=3)\n",
    "ax.legend(loc='upper center', bbox_to_anchor=(0.5, 1.0),  shadow=True, ncol=2)\n",
    "plt.show()"
   ]
  },
  {
   "cell_type": "markdown",
   "metadata": {},
   "source": [
    "**Final nn :** <br\\>\n",
    "> 1. **Model layer :** <br\\>\n",
    "> Conv2D => BatchNormalization => Conv2D => BatchNormalization => MaxPooling2D\n",
    ">    => Dropout => Flatten => BatchNormalization => activate by relu => Dropout => softmax\n",
    "> 2. **Optimizer :** Nadam , lr = 0.002 \n",
    ">> ＊ keras.optimizers.Nadam( lr = 0.002 )\n",
    "> 3. Test loss: 0.245943645543\n",
    "> 4. Test accuracy: 0.9141\n",
    "> 5. 第二個epoch就已經收斂到89%"
   ]
  },
  {
   "cell_type": "code",
   "execution_count": null,
   "metadata": {
    "collapsed": true
   },
   "outputs": [],
   "source": []
  }
 ],
 "metadata": {
  "kernelspec": {
   "display_name": "Python 2",
   "language": "python",
   "name": "python2"
  },
  "language_info": {
   "codemirror_mode": {
    "name": "ipython",
    "version": 2
   },
   "file_extension": ".py",
   "mimetype": "text/x-python",
   "name": "python",
   "nbconvert_exporter": "python",
   "pygments_lexer": "ipython2",
   "version": "2.7.11"
  }
 },
 "nbformat": 4,
 "nbformat_minor": 0
}
