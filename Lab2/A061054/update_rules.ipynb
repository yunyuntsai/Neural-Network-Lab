{
 "cells": [
  {
   "cell_type": "code",
   "execution_count": 7,
   "metadata": {
    "collapsed": false,
    "scrolled": false
   },
   "outputs": [
    {
     "name": "stdout",
     "output_type": "stream",
     "text": [
      "x_train shape: (60000, 28, 28, 1)\n",
      "60000 train samples\n",
      "10000 test samples\n",
      "Train on 48000 samples, validate on 12000 samples\n",
      "Epoch 1/12\n",
      "48000/48000 [==============================] - 162s 3ms/step - loss: 1.4086 - acc: 0.5003 - val_loss: 0.7121 - val_acc: 0.7489\n",
      "Epoch 2/12\n",
      "48000/48000 [==============================] - 200s 4ms/step - loss: 0.7973 - acc: 0.7088 - val_loss: 0.6031 - val_acc: 0.7712\n",
      "Epoch 3/12\n",
      "48000/48000 [==============================] - 353s 7ms/step - loss: 0.7009 - acc: 0.7382 - val_loss: 0.5625 - val_acc: 0.7810\n",
      "Epoch 4/12\n",
      "48000/48000 [==============================] - 208s 4ms/step - loss: 0.6557 - acc: 0.7558 - val_loss: 0.5347 - val_acc: 0.7969\n",
      "Epoch 5/12\n",
      "48000/48000 [==============================] - 213s 4ms/step - loss: 0.6255 - acc: 0.7655 - val_loss: 0.5260 - val_acc: 0.8083\n",
      "Epoch 6/12\n",
      "48000/48000 [==============================] - 148s 3ms/step - loss: 0.5979 - acc: 0.7758 - val_loss: 0.4936 - val_acc: 0.8171\n",
      "Epoch 7/12\n",
      "48000/48000 [==============================] - 148s 3ms/step - loss: 0.5779 - acc: 0.7825 - val_loss: 0.4856 - val_acc: 0.8160\n",
      "Epoch 8/12\n",
      "48000/48000 [==============================] - 149s 3ms/step - loss: 0.5602 - acc: 0.7927 - val_loss: 0.4693 - val_acc: 0.8279\n",
      "Epoch 9/12\n",
      "48000/48000 [==============================] - 148s 3ms/step - loss: 0.5428 - acc: 0.7989 - val_loss: 0.4581 - val_acc: 0.8293\n",
      "Epoch 10/12\n",
      "48000/48000 [==============================] - 148s 3ms/step - loss: 0.5275 - acc: 0.8041 - val_loss: 0.4453 - val_acc: 0.8377\n",
      "Epoch 11/12\n",
      "48000/48000 [==============================] - 148s 3ms/step - loss: 0.5125 - acc: 0.8104 - val_loss: 0.4391 - val_acc: 0.8389\n",
      "Epoch 12/12\n",
      "48000/48000 [==============================] - 148s 3ms/step - loss: 0.5002 - acc: 0.8181 - val_loss: 0.4269 - val_acc: 0.8425\n",
      "Test loss: 0.445606280804\n",
      "Test accuracy: 0.8368\n"
     ]
    }
   ],
   "source": [
    "'''Trains a simple convnet on the Zalando MNIST dataset.\n",
    "Gets to 81.03% test accuracy after 30 epochs\n",
    "(there is still a lot of margin for parameter tuning).\n",
    "3 seconds per epoch on a GeForce GTX 980 GPU with CuDNN 5.\n",
    "'''\n",
    "\n",
    "from __future__ import print_function\n",
    "import numpy as np\n",
    "import mnist_reader as mr\n",
    "import keras\n",
    "from keras.models import Sequential\n",
    "from keras.layers import Dense, Dropout, Flatten\n",
    "from keras.layers import Conv2D, MaxPooling2D\n",
    "from keras import backend as K\n",
    "\n",
    "batch_size = 128\n",
    "num_classes = 10\n",
    "epochs = 12\n",
    "\n",
    "# input image dimensions\n",
    "img_rows, img_cols = 28, 28\n",
    "\n",
    "# the data, shuffled and split between train and test sets\n",
    "x_train, y_train = mr.load_mnist('data/fashion', kind='train')\n",
    "x_test, y_test = mr.load_mnist('data/fashion', kind='t10k')\n",
    "\n",
    "x_train = np.array(x_train)\n",
    "y_train = np.array(y_train)\n",
    "x_test = np.array(x_test)\n",
    "y_test = np.array(y_test)\n",
    "\n",
    "if K.image_data_format() == 'channels_first':\n",
    "    x_train = x_train.reshape(x_train.shape[0], 1, img_rows, img_cols)\n",
    "    x_test = x_test.reshape(x_test.shape[0], 1, img_rows, img_cols)\n",
    "    input_shape = (1, img_rows, img_cols)\n",
    "else:\n",
    "    x_train = x_train.reshape(x_train.shape[0], img_rows, img_cols, 1)\n",
    "    x_test = x_test.reshape(x_test.shape[0], img_rows, img_cols, 1)\n",
    "    input_shape = (img_rows, img_cols, 1)\n",
    "\n",
    "x_train = x_train.astype('float32')\n",
    "x_test = x_test.astype('float32')\n",
    "x_train /= 255\n",
    "x_test /= 255\n",
    "print('x_train shape:', x_train.shape)\n",
    "print(x_train.shape[0], 'train samples')\n",
    "print(x_test.shape[0], 'test samples')\n",
    "\n",
    "# convert class vectors to binary class matrices\n",
    "y_train = keras.utils.to_categorical(y_train, num_classes)\n",
    "y_test = keras.utils.to_categorical(y_test, num_classes)\n",
    "\n",
    "model = Sequential()\n",
    "model.add(Conv2D(32, kernel_size=(3, 3),\n",
    "                 activation='relu',\n",
    "                 input_shape=input_shape))\n",
    "model.add(Conv2D(64, (3, 3), activation='relu'))\n",
    "model.add(MaxPooling2D(pool_size=(2, 2)))\n",
    "model.add(Dropout(0.25))\n",
    "model.add(Flatten())\n",
    "model.add(Dense(128, activation='relu'))\n",
    "model.add(Dropout(0.5))\n",
    "model.add(Dense(num_classes, activation='softmax'))\n",
    "\n",
    "sgd = keras.optimizers.SGD(lr=0.01)\n",
    "model.compile(loss=keras.losses.categorical_crossentropy,\n",
    "              optimizer=sgd,\n",
    "              metrics=['accuracy'])\n",
    "\n",
    "record = model.fit(x_train, y_train,\n",
    "          batch_size=batch_size,\n",
    "          epochs=epochs,\n",
    "          verbose=1,\n",
    "          validation_split=0.2)\n",
    "score = model.evaluate(x_test, y_test, verbose=0)\n",
    "print('Test loss:', score[0])\n",
    "print('Test accuracy:', score[1])"
   ]
  },
  {
   "cell_type": "markdown",
   "metadata": {},
   "source": [
    "### ＊report 在圖的下方"
   ]
  },
  {
   "cell_type": "code",
   "execution_count": 25,
   "metadata": {
    "collapsed": false
   },
   "outputs": [
    {
     "data": {
      "image/png": "[encoded data removed]",
      "text/plain": [
       "<matplotlib.figure.Figure at 0x121b812d0>"
      ]
     },
     "metadata": {},
     "output_type": "display_data"
    }
   ],
   "source": [
    "#Plot iter accuracy curve\n",
    "#Store your every iter number and accuracy in tow numpy array \"iter_log\" and \"accuracy_log\"\n",
    "import matplotlib.pyplot as plt\n",
    "%matplotlib inline\n",
    "iter_log = np.empty((0,12),int)\n",
    "train_loss = np.empty((0,12),int)\n",
    "val_loss = np.empty((0,12),int)\n",
    "for i in range(0,12):\n",
    "    iter_log = np.append(iter_log,i)\n",
    "    \n",
    "train_acc = record.history['acc']\n",
    "val_acc = record.history['val_acc']\n",
    "\n",
    "ax = plt.subplot(111)\n",
    "plt.plot(iter_log, train_acc, label='train-acc', color=\"#1f77b4\", linewidth=3)\n",
    "plt.plot(iter_log, val_acc, label='val-acc', color=\"#e377c2\", linewidth=3)\n",
    "ax.legend(loc='upper center', bbox_to_anchor=(0.5, 0.2),  shadow=True, ncol=2)\n",
    "plt.show()"
   ]
  },
  {
   "cell_type": "code",
   "execution_count": 23,
   "metadata": {
    "collapsed": false,
    "scrolled": true
   },
   "outputs": [
    {
     "data": {
      "image/png": "[encoded data removed]",
      "text/plain": [
       "<matplotlib.figure.Figure at 0x1218fcd50>"
      ]
     },
     "metadata": {},
     "output_type": "display_data"
    }
   ],
   "source": [
    "#Plot iter accuracy curve\n",
    "#Store your every iter number and accuracy in tow numpy array \"iter_log\" and \"accuracy_log\"\n",
    "import matplotlib.pyplot as plt\n",
    "%matplotlib inline\n",
    "iter_log = np.empty((0,12),int)\n",
    "train_loss = np.empty((0,12),int)\n",
    "val_loss = np.empty((0,12),int)\n",
    "for i in range(0,12):\n",
    "    iter_log = np.append(iter_log,i)\n",
    "    \n",
    "train_loss = record.history['loss']\n",
    "val_loss = record.history['val_loss']\n",
    "\n",
    "ax = plt.subplot(111)\n",
    "plt.plot(iter_log, train_loss, label='train-loss', color=\"#1f77b4\", linewidth=3)\n",
    "plt.plot(iter_log, val_loss, label='val-loss', color=\"#e377c2\", linewidth=3)\n",
    "ax.legend(loc='upper center', bbox_to_anchor=(0.5, 1.0),  shadow=True, ncol=2)\n",
    "plt.show()"
   ]
  },
  {
   "cell_type": "markdown",
   "metadata": {},
   "source": [
    "**Fixed gradient descend : learning rate 固定在0.01,每一次更新都是乘這個值**\n",
    "\n",
    "> ＊ sgd = keras.optimizers.SGD(lr=0.01) <br\\>\n",
    "> 1. test accuracy = 0.83 <br\\>\n",
    "> 2. 收斂速度不快，train acc第一個epoch只有收斂到50<br\\>\n",
    "> 3. ＊缺點：<br\\>\n",
    ">> a.training data太多，計算梯度時間會比較久，因為每次更新都是相似的樣本<br\\>\n",
    ">> b.無法進行online的更新"
   ]
  },
  {
   "cell_type": "code",
   "execution_count": 27,
   "metadata": {
    "collapsed": false
   },
   "outputs": [
    {
     "name": "stdout",
     "output_type": "stream",
     "text": [
      "x_train shape: (60000, 28, 28, 1)\n",
      "60000 train samples\n",
      "10000 test samples\n",
      "Train on 48000 samples, validate on 12000 samples\n",
      "Epoch 1/12\n",
      "48000/48000 [==============================] - 156s 3ms/step - loss: 1.3599 - acc: 0.5232 - val_loss: 0.7456 - val_acc: 0.7073\n",
      "Epoch 2/12\n",
      "48000/48000 [==============================] - 148s 3ms/step - loss: 0.7895 - acc: 0.7107 - val_loss: 0.6063 - val_acc: 0.7750\n",
      "Epoch 3/12\n",
      "48000/48000 [==============================] - 156s 3ms/step - loss: 0.6956 - acc: 0.7431 - val_loss: 0.5544 - val_acc: 0.7906\n",
      "Epoch 4/12\n",
      "48000/48000 [==============================] - 152s 3ms/step - loss: 0.6483 - acc: 0.7606 - val_loss: 0.5243 - val_acc: 0.8042\n",
      "Epoch 5/12\n",
      "48000/48000 [==============================] - 152s 3ms/step - loss: 0.6142 - acc: 0.7710 - val_loss: 0.5202 - val_acc: 0.7991\n",
      "Epoch 6/12\n",
      "48000/48000 [==============================] - 152s 3ms/step - loss: 0.5881 - acc: 0.7818 - val_loss: 0.4982 - val_acc: 0.8067\n",
      "Epoch 7/12\n",
      "48000/48000 [==============================] - 152s 3ms/step - loss: 0.5684 - acc: 0.7880 - val_loss: 0.4762 - val_acc: 0.8242\n",
      "Epoch 8/12\n",
      "48000/48000 [==============================] - 152s 3ms/step - loss: 0.5488 - acc: 0.7979 - val_loss: 0.4652 - val_acc: 0.8261\n",
      "Epoch 9/12\n",
      "48000/48000 [==============================] - 151s 3ms/step - loss: 0.5317 - acc: 0.8054 - val_loss: 0.4492 - val_acc: 0.8335\n",
      "Epoch 10/12\n",
      "48000/48000 [==============================] - 153s 3ms/step - loss: 0.5170 - acc: 0.8114 - val_loss: 0.4458 - val_acc: 0.8399\n",
      "Epoch 11/12\n",
      "48000/48000 [==============================] - 152s 3ms/step - loss: 0.5065 - acc: 0.8147 - val_loss: 0.4286 - val_acc: 0.8425\n",
      "Epoch 12/12\n",
      "48000/48000 [==============================] - 151s 3ms/step - loss: 0.4937 - acc: 0.8230 - val_loss: 0.4221 - val_acc: 0.8462\n",
      "Test loss: 0.437722146702\n",
      "Test accuracy: 0.8402\n"
     ]
    }
   ],
   "source": [
    "'''Trains a simple convnet on the Zalando MNIST dataset.\n",
    "Gets to 81.03% test accuracy after 30 epochs\n",
    "(there is still a lot of margin for parameter tuning).\n",
    "3 seconds per epoch on a GeForce GTX 980 GPU with CuDNN 5.\n",
    "'''\n",
    "\n",
    "from __future__ import print_function\n",
    "import numpy as np\n",
    "import mnist_reader as mr\n",
    "import keras\n",
    "from keras.models import Sequential\n",
    "from keras.layers import Dense, Dropout, Flatten\n",
    "from keras.layers import Conv2D, MaxPooling2D\n",
    "from keras import backend as K\n",
    "\n",
    "batch_size = 128\n",
    "num_classes = 10\n",
    "epochs = 12\n",
    "\n",
    "# input image dimensions\n",
    "img_rows, img_cols = 28, 28\n",
    "\n",
    "# the data, shuffled and split between train and test sets\n",
    "x_train, y_train = mr.load_mnist('data/fashion', kind='train')\n",
    "x_test, y_test = mr.load_mnist('data/fashion', kind='t10k')\n",
    "\n",
    "x_train = np.array(x_train)\n",
    "y_train = np.array(y_train)\n",
    "x_test = np.array(x_test)\n",
    "y_test = np.array(y_test)\n",
    "\n",
    "if K.image_data_format() == 'channels_first':\n",
    "    x_train = x_train.reshape(x_train.shape[0], 1, img_rows, img_cols)\n",
    "    x_test = x_test.reshape(x_test.shape[0], 1, img_rows, img_cols)\n",
    "    input_shape = (1, img_rows, img_cols)\n",
    "else:\n",
    "    x_train = x_train.reshape(x_train.shape[0], img_rows, img_cols, 1)\n",
    "    x_test = x_test.reshape(x_test.shape[0], img_rows, img_cols, 1)\n",
    "    input_shape = (img_rows, img_cols, 1)\n",
    "\n",
    "x_train = x_train.astype('float32')\n",
    "x_test = x_test.astype('float32')\n",
    "x_train /= 255\n",
    "x_test /= 255\n",
    "print('x_train shape:', x_train.shape)\n",
    "print(x_train.shape[0], 'train samples')\n",
    "print(x_test.shape[0], 'test samples')\n",
    "\n",
    "# convert class vectors to binary class matrices\n",
    "y_train = keras.utils.to_categorical(y_train, num_classes)\n",
    "y_test = keras.utils.to_categorical(y_test, num_classes)\n",
    "\n",
    "model = Sequential()\n",
    "model.add(Conv2D(32, kernel_size=(3, 3),\n",
    "                 activation='relu',\n",
    "                 input_shape=input_shape))\n",
    "model.add(Conv2D(64, (3, 3), activation='relu'))\n",
    "model.add(MaxPooling2D(pool_size=(2, 2)))\n",
    "model.add(Dropout(0.25))\n",
    "model.add(Flatten())\n",
    "model.add(Dense(128, activation='relu'))\n",
    "model.add(Dropout(0.5))\n",
    "model.add(Dense(num_classes, activation='softmax'))\n",
    "\n",
    "sgd = keras.optimizers.SGD(lr=0.01,decay=0.000001)\n",
    "model.compile(loss=keras.losses.categorical_crossentropy,\n",
    "              optimizer=sgd,\n",
    "              metrics=['accuracy'])\n",
    "\n",
    "record = model.fit(x_train, y_train,\n",
    "          batch_size=batch_size,\n",
    "          epochs=epochs,\n",
    "          verbose=1,\n",
    "          validation_split=0.2)\n",
    "score = model.evaluate(x_test, y_test, verbose=0)\n",
    "print('Test loss:', score[0])\n",
    "print('Test accuracy:', score[1])"
   ]
  },
  {
   "cell_type": "code",
   "execution_count": 28,
   "metadata": {
    "collapsed": false
   },
   "outputs": [
    {
     "data": {
      "image/png": "[encoded data removed]",
      "text/plain": [
       "<matplotlib.figure.Figure at 0x122951910>"
      ]
     },
     "metadata": {},
     "output_type": "display_data"
    }
   ],
   "source": [
    "#Plot iter accuracy curve\n",
    "#Store your every iter number and accuracy in tow numpy array \"iter_log\" and \"accuracy_log\"\n",
    "import matplotlib.pyplot as plt\n",
    "%matplotlib inline\n",
    "iter_log = np.empty((0,12),int)\n",
    "train_loss = np.empty((0,12),int)\n",
    "val_loss = np.empty((0,12),int)\n",
    "for i in range(0,12):\n",
    "    iter_log = np.append(iter_log,i)\n",
    "    \n",
    "train_acc = record1.history['acc']\n",
    "val_acc = record1.history['val_acc']\n",
    "\n",
    "ax = plt.subplot(111)\n",
    "plt.plot(iter_log, train_acc, label='train-acc', color=\"#1f77b4\", linewidth=3)\n",
    "plt.plot(iter_log, val_acc, label='val-acc', color=\"#e377c2\", linewidth=3)\n",
    "ax.legend(loc='upper center', bbox_to_anchor=(0.5, 0.2),  shadow=True, ncol=2)\n",
    "plt.show()"
   ]
  },
  {
   "cell_type": "markdown",
   "metadata": {},
   "source": [
    "**Stochastic Gradient Descent (sgd) :** <br\\>\n",
    "> ＊ keras.optimizers.SGD( lr=0.01,decay=0.000001 )<br\\>\n",
    "> 1. SGD 拿到ouput new wight之後,馬上計算梯度,然后對參數做更新.<br\\>\n",
    "> 2. test accuracy = 0.84 <br\\>\n",
    "> 3. ＊ 優點：<br\\>\n",
    ">> a. 收斂速度較快\n",
    ">> b. 可以 online 更新\n",
    ">> c. 不會陷入局部的最低值"
   ]
  },
  {
   "cell_type": "code",
   "execution_count": 31,
   "metadata": {
    "collapsed": false
   },
   "outputs": [
    {
     "name": "stdout",
     "output_type": "stream",
     "text": [
      "Train on 48000 samples, validate on 12000 samples\n",
      "Epoch 1/12\n",
      "48000/48000 [==============================] - 175s 4ms/step - loss: 1.2753 - acc: 0.5503 - val_loss: 0.7063 - val_acc: 0.7358\n",
      "Epoch 2/12\n",
      "48000/48000 [==============================] - 179s 4ms/step - loss: 0.7801 - acc: 0.7164 - val_loss: 0.5929 - val_acc: 0.7732\n",
      "Epoch 3/12\n",
      "48000/48000 [==============================] - 198s 4ms/step - loss: 0.6844 - acc: 0.7472 - val_loss: 0.5637 - val_acc: 0.7946\n",
      "Epoch 4/12\n",
      "48000/48000 [==============================] - 154s 3ms/step - loss: 0.6432 - acc: 0.7640 - val_loss: 0.5305 - val_acc: 0.8042\n",
      "Epoch 5/12\n",
      "48000/48000 [==============================] - 152s 3ms/step - loss: 0.6092 - acc: 0.7728 - val_loss: 0.5139 - val_acc: 0.8087\n",
      "Epoch 6/12\n",
      "48000/48000 [==============================] - 166s 3ms/step - loss: 0.5864 - acc: 0.7835 - val_loss: 0.4908 - val_acc: 0.8155\n",
      "Epoch 7/12\n",
      "48000/48000 [==============================] - 194s 4ms/step - loss: 0.5651 - acc: 0.7925 - val_loss: 0.4727 - val_acc: 0.8304\n",
      "Epoch 8/12\n",
      "48000/48000 [==============================] - 154s 3ms/step - loss: 0.5482 - acc: 0.7996 - val_loss: 0.4674 - val_acc: 0.8298\n",
      "Epoch 9/12\n",
      "48000/48000 [==============================] - 169s 4ms/step - loss: 0.5268 - acc: 0.8078 - val_loss: 0.4521 - val_acc: 0.8364\n",
      "Epoch 10/12\n",
      "48000/48000 [==============================] - 191s 4ms/step - loss: 0.5213 - acc: 0.8081 - val_loss: 0.4512 - val_acc: 0.8359\n",
      "Epoch 11/12\n",
      "48000/48000 [==============================] - 161s 3ms/step - loss: 0.5199 - acc: 0.8107 - val_loss: 0.4497 - val_acc: 0.8368\n",
      "Epoch 12/12\n",
      "48000/48000 [==============================] - 165s 3ms/step - loss: 0.5198 - acc: 0.8091 - val_loss: 0.4484 - val_acc: 0.8381\n",
      "Step update_rule : Test loss: 0.467277182174\n",
      "Step update_rule : Test accuracy: 0.8326\n"
     ]
    }
   ],
   "source": [
    "'''Trains a simple convnet on the Zalando MNIST dataset.\n",
    "Gets to 81.03% test accuracy after 30 epochs\n",
    "(there is still a lot of margin for parameter tuning).\n",
    "3 seconds per epoch on a GeForce GTX 980 GPU with CuDNN 5.\n",
    "'''\n",
    "\n",
    "from __future__ import print_function\n",
    "import numpy as np\n",
    "import mnist_reader as mr\n",
    "import keras\n",
    "from keras.models import Sequential\n",
    "from keras.callbacks import LearningRateScheduler\n",
    "from keras.layers import Dense, Dropout, Flatten\n",
    "from keras.layers import Conv2D, MaxPooling2D\n",
    "from keras import backend as K\n",
    "\n",
    "\n",
    "model = Sequential()\n",
    "model.add(Conv2D(32, kernel_size=(3, 3),activation='relu', input_shape=input_shape))\n",
    "model.add(Conv2D(64, (3, 3), activation='relu'))\n",
    "model.add(MaxPooling2D(pool_size=(2, 2)))\n",
    "model.add(Dropout(0.25))\n",
    "model.add(Flatten())\n",
    "model.add(Dense(128, activation='relu'))\n",
    "model.add(Dropout(0.5))\n",
    "model.add(Dense(num_classes, activation='softmax'))\n",
    "\n",
    "sgd = keras.optimizers.SGD(lr=0.01)\n",
    "model.compile(loss=keras.losses.categorical_crossentropy, optimizer=sgd,\n",
    "              metrics=['accuracy'])\n",
    "\n",
    "def scheduler(epoch):\n",
    "    if epoch == 8:\n",
    "         K.set_value(model.optimizer.lr,0.001)   \n",
    "    return float(K.get_value(model.optimizer.lr)) \n",
    "\n",
    "new_lr = LearningRateScheduler(scheduler)\n",
    "\n",
    "step_history = model.fit(x_train, y_train,\n",
    "          batch_size=batch_size,\n",
    "          epochs=epochs,\n",
    "          verbose=1,\n",
    "          validation_split=0.2,\n",
    "          callbacks=[new_lr])\n",
    "\n",
    "\n",
    "score = model.evaluate(x_test, y_test, verbose=0)\n",
    "print('Step update_rule : Test loss:', score[0])\n",
    "print('Step update_rule : Test accuracy:', score[1])"
   ]
  },
  {
   "cell_type": "code",
   "execution_count": 32,
   "metadata": {
    "collapsed": false
   },
   "outputs": [
    {
     "data": {
      "image/png": "[encoded data removed]",
      "text/plain": [
       "<matplotlib.figure.Figure at 0x121e9c850>"
      ]
     },
     "metadata": {},
     "output_type": "display_data"
    }
   ],
   "source": [
    "#Plot iter accuracy curve\n",
    "#Store your every iter number and accuracy in tow numpy array \"iter_log\" and \"accuracy_log\"\n",
    "import matplotlib.pyplot as plt\n",
    "%matplotlib inline\n",
    "iter_log = np.empty((0,12),int)\n",
    "train_loss = np.empty((0,12),int)\n",
    "val_loss = np.empty((0,12),int)\n",
    "for i in range(0,12):\n",
    "    iter_log = np.append(iter_log,i)\n",
    "    \n",
    "train_acc = step_history.history['acc']\n",
    "val_acc = step_history.history['val_acc']\n",
    "\n",
    "ax = plt.subplot(111)\n",
    "plt.plot(iter_log, train_acc, label='train-acc', color=\"#1f77b4\", linewidth=3)\n",
    "plt.plot(iter_log, val_acc, label='val-acc', color=\"#e377c2\", linewidth=3)\n",
    "ax.legend(loc='upper center', bbox_to_anchor=(0.5, 0.2),  shadow=True, ncol=2)\n",
    "plt.show()"
   ]
  },
  {
   "cell_type": "markdown",
   "metadata": {},
   "source": [
    "**Mini-batch Gradient Descent :** <br\\>\n",
    "> 1.fixed-gd & stochastic-gd 的折衷方法 <br\\>\n",
    ">> ＊ from keras.callbacks import LearningRateScheduler<br\\>\n",
    "＊ def scheduler(epoch)<br\\>\n",
    "\n",
    "> 2.前八次epoch都不換learning rate的值，剩下的才開始以一個batch為單位下降lr<br\\>\n",
    ">> ＊ if epoch == 8 : lr = 0.001 <br\\>  \n",
    "＊ else : lr = 0.01 <br\\>  \n",
    "\n",
    "> 3.test accuracy = 0.83.81 <br\\>"
   ]
  },
  {
   "cell_type": "code",
   "execution_count": null,
   "metadata": {
    "collapsed": true
   },
   "outputs": [],
   "source": []
  }
 ],
 "metadata": {
  "kernelspec": {
   "display_name": "Python 2",
   "language": "python",
   "name": "python2"
  },
  "language_info": {
   "codemirror_mode": {
    "name": "ipython",
    "version": 2
   },
   "file_extension": ".py",
   "mimetype": "text/x-python",
   "name": "python",
   "nbconvert_exporter": "python",
   "pygments_lexer": "ipython2",
   "version": "2.7.11"
  }
 },
 "nbformat": 4,
 "nbformat_minor": 0
}
