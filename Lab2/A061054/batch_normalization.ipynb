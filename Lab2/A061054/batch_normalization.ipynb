{
 "cells": [
  {
   "cell_type": "code",
   "execution_count": 1,
   "metadata": {
    "collapsed": false
   },
   "outputs": [
    {
     "name": "stderr",
     "output_type": "stream",
     "text": [
      "Using TensorFlow backend.\n"
     ]
    },
    {
     "name": "stdout",
     "output_type": "stream",
     "text": [
      "x_train shape: (60000, 28, 28, 1)\n",
      "60000 train samples\n",
      "10000 test samples\n",
      "Train on 48000 samples, validate on 12000 samples\n",
      "Epoch 1/12\n",
      "48000/48000 [==============================] - 309s 6ms/step - loss: 0.6267 - acc: 0.7836 - val_loss: 1.0147 - val_acc: 0.6715\n",
      "Epoch 2/12\n",
      "48000/48000 [==============================] - 304s 6ms/step - loss: 0.4418 - acc: 0.8444 - val_loss: 0.3337 - val_acc: 0.8804\n",
      "Epoch 3/12\n",
      "48000/48000 [==============================] - 302s 6ms/step - loss: 0.3874 - acc: 0.8626 - val_loss: 0.3034 - val_acc: 0.8893\n",
      "Epoch 4/12\n",
      "48000/48000 [==============================] - 299s 6ms/step - loss: 0.3572 - acc: 0.8731 - val_loss: 0.2859 - val_acc: 0.8957\n",
      "Epoch 5/12\n",
      "48000/48000 [==============================] - 296s 6ms/step - loss: 0.3384 - acc: 0.8811 - val_loss: 0.2867 - val_acc: 0.8957\n",
      "Epoch 6/12\n",
      "48000/48000 [==============================] - 316s 7ms/step - loss: 0.3163 - acc: 0.8877 - val_loss: 0.2748 - val_acc: 0.8982\n",
      "Epoch 7/12\n",
      "48000/48000 [==============================] - 300s 6ms/step - loss: 0.3014 - acc: 0.8928 - val_loss: 0.2667 - val_acc: 0.9034\n",
      "Epoch 8/12\n",
      "48000/48000 [==============================] - 299s 6ms/step - loss: 0.2901 - acc: 0.8962 - val_loss: 0.2513 - val_acc: 0.9069\n",
      "Epoch 9/12\n",
      "48000/48000 [==============================] - 297s 6ms/step - loss: 0.2811 - acc: 0.8990 - val_loss: 0.2545 - val_acc: 0.9048\n",
      "Epoch 10/12\n",
      "48000/48000 [==============================] - 302s 6ms/step - loss: 0.2704 - acc: 0.9031 - val_loss: 0.2437 - val_acc: 0.9115\n",
      "Epoch 11/12\n",
      "48000/48000 [==============================] - 298s 6ms/step - loss: 0.2619 - acc: 0.9061 - val_loss: 0.2496 - val_acc: 0.9095\n",
      "Epoch 12/12\n",
      "48000/48000 [==============================] - 345s 7ms/step - loss: 0.2543 - acc: 0.9084 - val_loss: 0.2398 - val_acc: 0.9123\n",
      "Test loss: 0.254911805362\n",
      "Test accuracy: 0.9054\n"
     ]
    }
   ],
   "source": [
    "'''Trains a simple convnet on the Zalando MNIST dataset.\n",
    "Gets to 81.03% test accuracy after 30 epochs\n",
    "(there is still a lot of margin for parameter tuning).\n",
    "3 seconds per epoch on a GeForce GTX 980 GPU with CuDNN 5.\n",
    "'''\n",
    "\n",
    "from __future__ import print_function\n",
    "import numpy as np\n",
    "import mnist_reader as mr\n",
    "import keras\n",
    "from keras.models import Sequential\n",
    "from keras.layers import Dense, Dropout, Flatten\n",
    "from keras.layers import Conv2D, MaxPooling2D\n",
    "# import BatchNormalization\n",
    "from keras.layers.normalization import BatchNormalization\n",
    "from keras import backend as K\n",
    "\n",
    "batch_size = 128\n",
    "num_classes = 10\n",
    "epochs = 12\n",
    "\n",
    "# input image dimensions\n",
    "img_rows, img_cols = 28, 28\n",
    "\n",
    "# the data, shuffled and split between train and test sets\n",
    "x_train, y_train = mr.load_mnist('data/fashion', kind='train')\n",
    "x_test, y_test = mr.load_mnist('data/fashion', kind='t10k')\n",
    "\n",
    "x_train = np.array(x_train)\n",
    "y_train = np.array(y_train)\n",
    "x_test = np.array(x_test)\n",
    "y_test = np.array(y_test)\n",
    "\n",
    "if K.image_data_format() == 'channels_first':\n",
    "    x_train = x_train.reshape(x_train.shape[0], 1, img_rows, img_cols)\n",
    "    x_test = x_test.reshape(x_test.shape[0], 1, img_rows, img_cols)\n",
    "    input_shape = (1, img_rows, img_cols)\n",
    "else:\n",
    "    x_train = x_train.reshape(x_train.shape[0], img_rows, img_cols, 1)\n",
    "    x_test = x_test.reshape(x_test.shape[0], img_rows, img_cols, 1)\n",
    "    input_shape = (img_rows, img_cols, 1)\n",
    "\n",
    "x_train = x_train.astype('float32')\n",
    "x_test = x_test.astype('float32')\n",
    "x_train /= 255\n",
    "x_test /= 255\n",
    "print('x_train shape:', x_train.shape)\n",
    "print(x_train.shape[0], 'train samples')\n",
    "print(x_test.shape[0], 'test samples')\n",
    "\n",
    "# convert class vectors to binary class matrices\n",
    "y_train = keras.utils.to_categorical(y_train, num_classes)\n",
    "y_test = keras.utils.to_categorical(y_test, num_classes)\n",
    "\n",
    "model = Sequential()\n",
    "model.add(Conv2D(32, kernel_size=(3, 3),\n",
    "                 activation='relu',\n",
    "                 input_shape=input_shape))\n",
    "model.add(BatchNormalization())\n",
    "model.add(Conv2D(64, (3, 3), activation='relu'))\n",
    "model.add(BatchNormalization())\n",
    "model.add(MaxPooling2D(pool_size=(2, 2)))\n",
    "model.add(Dropout(0.25))\n",
    "model.add(Flatten())\n",
    "model.add(Dense(128, activation='relu'))\n",
    "model.add(BatchNormalization())\n",
    "model.add(Dropout(0.5))\n",
    "model.add(Dense(num_classes, activation='softmax'))\n",
    "\n",
    "sgd = keras.optimizers.SGD(lr=0.01)\n",
    "model.compile(loss=keras.losses.categorical_crossentropy,\n",
    "              optimizer=sgd,\n",
    "              metrics=['accuracy'])\n",
    "\n",
    "batch_record = model.fit(x_train, y_train,\n",
    "          batch_size=batch_size,\n",
    "          epochs=epochs,\n",
    "          verbose=1,\n",
    "          validation_split=0.2)\n",
    "score = model.evaluate(x_test, y_test, verbose=0)\n",
    "print('Test loss:', score[0])\n",
    "print('Test accuracy:', score[1])"
   ]
  },
  {
   "cell_type": "code",
   "execution_count": 3,
   "metadata": {
    "collapsed": false
   },
   "outputs": [
    {
     "data": {
      "image/png": "[encoded data removed]",
      "text/plain": [
       "<matplotlib.figure.Figure at 0x10392d190>"
      ]
     },
     "metadata": {},
     "output_type": "display_data"
    }
   ],
   "source": [
    "#Plot iter accuracy curve\n",
    "#Store your every iter number and accuracy in tow numpy array \"iter_log\" and \"accuracy_log\"\n",
    "import matplotlib.pyplot as plt\n",
    "%matplotlib inline\n",
    "iter_log = np.empty((0,12),int)\n",
    "train_loss = np.empty((0,12),int)\n",
    "val_loss = np.empty((0,12),int)\n",
    "for i in range(0,12):\n",
    "    iter_log = np.append(iter_log,i)\n",
    "    \n",
    "train_acc = batch_record.history['acc']\n",
    "val_acc = batch_record.history['val_acc']\n",
    "\n",
    "ax = plt.subplot(111)\n",
    "plt.plot(iter_log, train_acc, label='train-acc', color=\"#1f77b4\", linewidth=3)\n",
    "plt.plot(iter_log, val_acc, label='val-acc', color=\"#e377c2\", linewidth=3)\n",
    "ax.legend(loc='upper center', bbox_to_anchor=(0.5, 0.2),  shadow=True, ncol=2)\n",
    "plt.show()"
   ]
  },
  {
   "cell_type": "code",
   "execution_count": 2,
   "metadata": {
    "collapsed": false
   },
   "outputs": [
    {
     "data": {
      "image/png": "[encoded data removed]",
      "text/plain": [
       "<matplotlib.figure.Figure at 0x118047950>"
      ]
     },
     "metadata": {},
     "output_type": "display_data"
    }
   ],
   "source": [
    "#Plot iter accuracy curve\n",
    "#Store your every iter number and accuracy in tow numpy array \"iter_log\" and \"accuracy_log\"\n",
    "import matplotlib.pyplot as plt\n",
    "%matplotlib inline\n",
    "iter_log = np.empty((0,12),int)\n",
    "train_loss = np.empty((0,12),int)\n",
    "val_loss = np.empty((0,12),int)\n",
    "for i in range(0,12):\n",
    "    iter_log = np.append(iter_log,i)\n",
    "    \n",
    "train_loss = batch_record.history['loss']\n",
    "val_loss =batch_record.history['val_loss']\n",
    "\n",
    "ax = plt.subplot(111)\n",
    "plt.plot(iter_log, train_loss, label='train-loss', color=\"#1f77b4\", linewidth=3)\n",
    "plt.plot(iter_log, val_loss, label='val-loss', color=\"#e377c2\", linewidth=3)\n",
    "ax.legend(loc='upper center', bbox_to_anchor=(0.5, 1.0),  shadow=True, ncol=2)\n",
    "plt.show()"
   ]
  },
  {
   "cell_type": "code",
   "execution_count": 5,
   "metadata": {
    "collapsed": false
   },
   "outputs": [
    {
     "name": "stdout",
     "output_type": "stream",
     "text": [
      "Train on 48000 samples, validate on 12000 samples\n",
      "Epoch 1/12\n",
      "48000/48000 [==============================] - 159s 3ms/step - loss: 1.3201 - acc: 0.5265 - val_loss: 0.7127 - val_acc: 0.7458\n",
      "Epoch 2/12\n",
      "48000/48000 [==============================] - 155s 3ms/step - loss: 0.7947 - acc: 0.7101 - val_loss: 0.6170 - val_acc: 0.7755\n",
      "Epoch 3/12\n",
      "48000/48000 [==============================] - 155s 3ms/step - loss: 0.7005 - acc: 0.7404 - val_loss: 0.5649 - val_acc: 0.7910\n",
      "Epoch 4/12\n",
      "48000/48000 [==============================] - 155s 3ms/step - loss: 0.6548 - acc: 0.7559 - val_loss: 0.5356 - val_acc: 0.7960\n",
      "Epoch 5/12\n",
      "48000/48000 [==============================] - 175s 4ms/step - loss: 0.6215 - acc: 0.7695 - val_loss: 0.5084 - val_acc: 0.8087\n",
      "Epoch 6/12\n",
      "48000/48000 [==============================] - 200s 4ms/step - loss: 0.6005 - acc: 0.7773 - val_loss: 0.4975 - val_acc: 0.8160\n",
      "Epoch 7/12\n",
      "48000/48000 [==============================] - 156s 3ms/step - loss: 0.5770 - acc: 0.7865 - val_loss: 0.4847 - val_acc: 0.8167\n",
      "Epoch 8/12\n",
      "48000/48000 [==============================] - 164s 3ms/step - loss: 0.5607 - acc: 0.7937 - val_loss: 0.4841 - val_acc: 0.8247\n",
      "Epoch 9/12\n",
      "48000/48000 [==============================] - 162s 3ms/step - loss: 0.5439 - acc: 0.7996 - val_loss: 0.4582 - val_acc: 0.8295\n",
      "Epoch 10/12\n",
      "48000/48000 [==============================] - 164s 3ms/step - loss: 0.5309 - acc: 0.8062 - val_loss: 0.4530 - val_acc: 0.8311\n",
      "Epoch 11/12\n",
      "48000/48000 [==============================] - 157s 3ms/step - loss: 0.5171 - acc: 0.8100 - val_loss: 0.4394 - val_acc: 0.8397\n",
      "Epoch 12/12\n",
      "48000/48000 [==============================] - 156s 3ms/step - loss: 0.5052 - acc: 0.8160 - val_loss: 0.4306 - val_acc: 0.8428\n",
      "Test loss: 0.44960230298\n",
      "Test accuracy: 0.8368\n"
     ]
    }
   ],
   "source": [
    "'''Trains a simple convnet on the Zalando MNIST dataset.\n",
    "Gets to 81.03% test accuracy after 30 epochs\n",
    "(there is still a lot of margin for parameter tuning).\n",
    "3 seconds per epoch on a GeForce GTX 980 GPU with CuDNN 5.\n",
    "'''\n",
    "\n",
    "from __future__ import print_function\n",
    "import numpy as np\n",
    "import mnist_reader as mr\n",
    "import keras\n",
    "from keras.models import Sequential\n",
    "from keras.layers import Dense, Dropout, Flatten\n",
    "from keras.layers import Conv2D, MaxPooling2D\n",
    "# import BatchNormalization\n",
    "from keras.layers.normalization import BatchNormalization\n",
    "from keras import backend as K\n",
    "\n",
    "model = Sequential()\n",
    "model.add(Conv2D(32, kernel_size=(3, 3),\n",
    "                 activation='relu',\n",
    "                 input_shape=input_shape))\n",
    "model.add(Conv2D(64, (3, 3), activation='relu'))\n",
    "model.add(MaxPooling2D(pool_size=(2, 2)))\n",
    "model.add(Dropout(0.25))\n",
    "model.add(Flatten())\n",
    "model.add(Dense(128, activation='relu'))\n",
    "model.add(Dropout(0.5))\n",
    "model.add(Dense(num_classes, activation='softmax'))\n",
    "\n",
    "sgd = keras.optimizers.SGD(lr=0.01)\n",
    "model.compile(loss=keras.losses.categorical_crossentropy,\n",
    "              optimizer=sgd,\n",
    "              metrics=['accuracy'])\n",
    "\n",
    "no_batch_record = model.fit(x_train, y_train,\n",
    "          batch_size=batch_size,\n",
    "          epochs=epochs,\n",
    "          verbose=1,\n",
    "          validation_split=0.2)\n",
    "score = model.evaluate(x_test, y_test, verbose=0)\n",
    "print('Test loss:', score[0])\n",
    "print('Test accuracy:', score[1])"
   ]
  },
  {
   "cell_type": "code",
   "execution_count": 6,
   "metadata": {
    "collapsed": false
   },
   "outputs": [
    {
     "data": {
      "image/png": "[encoded data removed]",
      "text/plain": [
       "<matplotlib.figure.Figure at 0x118252cd0>"
      ]
     },
     "metadata": {},
     "output_type": "display_data"
    }
   ],
   "source": [
    "#Plot iter accuracy curve\n",
    "#Store your every iter number and accuracy in tow numpy array \"iter_log\" and \"accuracy_log\"\n",
    "import matplotlib.pyplot as plt\n",
    "%matplotlib inline\n",
    "iter_log = np.empty((0,12),int)\n",
    "train_loss = np.empty((0,12),int)\n",
    "val_loss = np.empty((0,12),int)\n",
    "for i in range(0,12):\n",
    "    iter_log = np.append(iter_log,i)\n",
    "    \n",
    "train_acc = no_batch_record.history['acc']\n",
    "val_acc = no_batch_record.history['val_acc']\n",
    "\n",
    "ax = plt.subplot(111)\n",
    "plt.plot(iter_log, train_acc, label='train-acc', color=\"#1f77b4\", linewidth=3)\n",
    "plt.plot(iter_log, val_acc, label='val-acc', color=\"#e377c2\", linewidth=3)\n",
    "ax.legend(loc='upper center', bbox_to_anchor=(0.5, 0.2),  shadow=True, ncol=2)\n",
    "plt.show()"
   ]
  },
  {
   "cell_type": "markdown",
   "metadata": {},
   "source": [
    "**Batch Normalization :** <br\\>\n",
    "> 1. 加在兩個 conv2D 和  activation 後面<br\\>\n",
    "> ＊ from keras.layers.normalization import BatchNormalization<br\\>\n",
    "> ＊ model.add( BatchNormalization ( ) )<br\\>\n",
    "> 2. 過高的學習速率會導致梯度消失，或者陷入局部極小值<br\\>\n",
    "> 3. BN可以阻止梯度過小變化<br\\>\n",
    "> 4. 收斂速度很快"
   ]
  },
  {
   "cell_type": "code",
   "execution_count": null,
   "metadata": {
    "collapsed": true
   },
   "outputs": [],
   "source": []
  }
 ],
 "metadata": {
  "kernelspec": {
   "display_name": "Python 2",
   "language": "python",
   "name": "python2"
  },
  "language_info": {
   "codemirror_mode": {
    "name": "ipython",
    "version": 2
   },
   "file_extension": ".py",
   "mimetype": "text/x-python",
   "name": "python",
   "nbconvert_exporter": "python",
   "pygments_lexer": "ipython2",
   "version": "2.7.11"
  }
 },
 "nbformat": 4,
 "nbformat_minor": 0
}
