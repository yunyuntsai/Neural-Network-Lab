{
 "cells": [
  {
   "cell_type": "code",
   "execution_count": 1,
   "metadata": {
    "collapsed": false
   },
   "outputs": [
    {
     "name": "stderr",
     "output_type": "stream",
     "text": [
      "Using TensorFlow backend.\n"
     ]
    },
    {
     "name": "stdout",
     "output_type": "stream",
     "text": [
      "x_train shape: (60000, 28, 28, 1)\n",
      "60000 train samples\n",
      "10000 test samples\n",
      "Train on 48000 samples, validate on 12000 samples\n",
      "Epoch 1/12\n",
      "48000/48000 [==============================] - 164s 3ms/step - loss: 1.0631 - acc: 0.6382 - val_loss: 0.6920 - val_acc: 0.7308\n",
      "Epoch 2/12\n",
      "48000/48000 [==============================] - 163s 3ms/step - loss: 0.6557 - acc: 0.7618 - val_loss: 0.5695 - val_acc: 0.7958\n",
      "Epoch 3/12\n",
      "48000/48000 [==============================] - 147s 3ms/step - loss: 0.5867 - acc: 0.7856 - val_loss: 0.6206 - val_acc: 0.7807\n",
      "Epoch 4/12\n",
      "48000/48000 [==============================] - 149s 3ms/step - loss: 0.5419 - acc: 0.8020 - val_loss: 0.5184 - val_acc: 0.8145\n",
      "Epoch 5/12\n",
      "48000/48000 [==============================] - 146s 3ms/step - loss: 0.5134 - acc: 0.8113 - val_loss: 0.4884 - val_acc: 0.8255\n",
      "Epoch 6/12\n",
      "48000/48000 [==============================] - 140s 3ms/step - loss: 0.4897 - acc: 0.8216 - val_loss: 0.6150 - val_acc: 0.7570\n",
      "Epoch 7/12\n",
      "48000/48000 [==============================] - 147s 3ms/step - loss: 0.4735 - acc: 0.8283 - val_loss: 0.5117 - val_acc: 0.8076\n",
      "Epoch 8/12\n",
      "48000/48000 [==============================] - 144s 3ms/step - loss: 0.4580 - acc: 0.8357 - val_loss: 0.5042 - val_acc: 0.8141\n",
      "Epoch 9/12\n",
      "48000/48000 [==============================] - 144s 3ms/step - loss: 0.4412 - acc: 0.8413 - val_loss: 0.5355 - val_acc: 0.7982\n",
      "Epoch 10/12\n",
      "48000/48000 [==============================] - 144s 3ms/step - loss: 0.4322 - acc: 0.8447 - val_loss: 0.4382 - val_acc: 0.8393\n",
      "Epoch 11/12\n",
      "48000/48000 [==============================] - 145s 3ms/step - loss: 0.4167 - acc: 0.8499 - val_loss: 0.4178 - val_acc: 0.8509\n",
      "Epoch 12/12\n",
      "48000/48000 [==============================] - 146s 3ms/step - loss: 0.4065 - acc: 0.8545 - val_loss: 0.4501 - val_acc: 0.8303\n",
      "Test loss: 0.470176010156\n",
      "Test accuracy: 0.8154\n"
     ]
    }
   ],
   "source": [
    "'''Trains a simple convnet on the Zalando MNIST dataset.\n",
    "Gets to 81.03% test accuracy after 30 epochs\n",
    "(there is still a lot of margin for parameter tuning).\n",
    "3 seconds per epoch on a GeForce GTX 980 GPU with CuDNN 5.\n",
    "'''\n",
    "\n",
    "from __future__ import print_function\n",
    "import numpy as np\n",
    "import mnist_reader as mr\n",
    "import keras\n",
    "from keras.models import Sequential\n",
    "from keras.layers import Dense, Dropout, Flatten\n",
    "from keras.layers import Conv2D, MaxPooling2D\n",
    "from keras import backend as K\n",
    "\n",
    "batch_size = 128\n",
    "num_classes = 10\n",
    "epochs = 12\n",
    "\n",
    "# input image dimensions\n",
    "img_rows, img_cols = 28, 28\n",
    "\n",
    "# the data, shuffled and split between train and test sets\n",
    "x_train, y_train = mr.load_mnist('data/fashion', kind='train')\n",
    "x_test, y_test = mr.load_mnist('data/fashion', kind='t10k')\n",
    "\n",
    "x_train = np.array(x_train)\n",
    "y_train = np.array(y_train)\n",
    "x_test = np.array(x_test)\n",
    "y_test = np.array(y_test)\n",
    "\n",
    "if K.image_data_format() == 'channels_first':\n",
    "    x_train = x_train.reshape(x_train.shape[0], 1, img_rows, img_cols)\n",
    "    x_test = x_test.reshape(x_test.shape[0], 1, img_rows, img_cols)\n",
    "    input_shape = (1, img_rows, img_cols)\n",
    "else:\n",
    "    x_train = x_train.reshape(x_train.shape[0], img_rows, img_cols, 1)\n",
    "    x_test = x_test.reshape(x_test.shape[0], img_rows, img_cols, 1)\n",
    "    input_shape = (img_rows, img_cols, 1)\n",
    "\n",
    "x_train = x_train.astype('float32')\n",
    "x_test = x_test.astype('float32')\n",
    "x_train /= 255\n",
    "x_test /= 255\n",
    "print('x_train shape:', x_train.shape)\n",
    "print(x_train.shape[0], 'train samples')\n",
    "print(x_test.shape[0], 'test samples')\n",
    "\n",
    "# convert class vectors to binary class matrices\n",
    "y_train = keras.utils.to_categorical(y_train, num_classes)\n",
    "y_test = keras.utils.to_categorical(y_test, num_classes)\n",
    "\n",
    "model = Sequential()\n",
    "model.add(Conv2D(32, kernel_size=(3, 3),\n",
    "                 activation='relu',\n",
    "                 input_shape=input_shape))\n",
    "model.add(Conv2D(64, (3, 3), activation='relu'))\n",
    "model.add(MaxPooling2D(pool_size=(2, 2)))\n",
    "#model.add(Dropout(0.25))\n",
    "model.add(Flatten())\n",
    "model.add(Dense(128, activation='relu'))\n",
    "#model.add(Dropout(0.5))\n",
    "model.add(Dense(num_classes, activation='softmax'))\n",
    "\n",
    "sgd = keras.optimizers.SGD(lr=0.01)\n",
    "model.compile(loss=keras.losses.categorical_crossentropy,\n",
    "              optimizer=sgd,\n",
    "              metrics=['accuracy'])\n",
    "\n",
    "no_dropout_record = model.fit(x_train, y_train,\n",
    "          batch_size=batch_size,\n",
    "          epochs=epochs,\n",
    "          verbose=1,\n",
    "          validation_split=0.2)\n",
    "score = model.evaluate(x_test, y_test, verbose=0)\n",
    "print('Test loss:', score[0])\n",
    "print('Test accuracy:', score[1])"
   ]
  },
  {
   "cell_type": "code",
   "execution_count": 2,
   "metadata": {
    "collapsed": false
   },
   "outputs": [
    {
     "data": {
      "image/png": "[encoded data removed]",
      "text/plain": [
       "<matplotlib.figure.Figure at 0x114e829d0>"
      ]
     },
     "metadata": {},
     "output_type": "display_data"
    }
   ],
   "source": [
    "#Plot iter accuracy curve\n",
    "#Store your every iter number and accuracy in tow numpy array \"iter_log\" and \"accuracy_log\"\n",
    "import matplotlib.pyplot as plt\n",
    "%matplotlib inline\n",
    "iter_log = np.empty((0,12),int)\n",
    "train_loss = np.empty((0,12),int)\n",
    "val_loss = np.empty((0,12),int)\n",
    "for i in range(0,12):\n",
    "    iter_log = np.append(iter_log,i)\n",
    "    \n",
    "train_acc = no_dropout_record.history['acc']\n",
    "val_acc = no_dropout_record.history['val_acc']\n",
    "\n",
    "ax = plt.subplot(111)\n",
    "plt.plot(iter_log, train_acc, label='train-acc', color=\"#1f77b4\", linewidth=3)\n",
    "plt.plot(iter_log, val_acc, label='val-acc', color=\"#e377c2\", linewidth=3)\n",
    "ax.legend(loc='upper center', bbox_to_anchor=(0.5, 0.2),  shadow=True, ncol=2)\n",
    "plt.show()"
   ]
  },
  {
   "cell_type": "code",
   "execution_count": 3,
   "metadata": {
    "collapsed": false
   },
   "outputs": [
    {
     "name": "stdout",
     "output_type": "stream",
     "text": [
      "Train on 48000 samples, validate on 12000 samples\n",
      "Epoch 1/12\n",
      "48000/48000 [==============================] - 200s 4ms/step - loss: 1.3586 - acc: 0.5154 - val_loss: 0.7333 - val_acc: 0.7352\n",
      "Epoch 2/12\n",
      "48000/48000 [==============================] - 195s 4ms/step - loss: 0.8437 - acc: 0.6890 - val_loss: 0.6234 - val_acc: 0.7610\n",
      "Epoch 3/12\n",
      "48000/48000 [==============================] - 179s 4ms/step - loss: 0.7350 - acc: 0.7302 - val_loss: 0.5806 - val_acc: 0.7762\n",
      "Epoch 4/12\n",
      "48000/48000 [==============================] - 189s 4ms/step - loss: 0.6786 - acc: 0.7463 - val_loss: 0.5435 - val_acc: 0.7925\n",
      "Epoch 5/12\n",
      "48000/48000 [==============================] - 152s 3ms/step - loss: 0.6386 - acc: 0.7616 - val_loss: 0.5159 - val_acc: 0.8058\n",
      "Epoch 6/12\n",
      "48000/48000 [==============================] - 174s 4ms/step - loss: 0.6076 - acc: 0.7717 - val_loss: 0.4943 - val_acc: 0.8223\n",
      "Epoch 7/12\n",
      "48000/48000 [==============================] - 184s 4ms/step - loss: 0.5827 - acc: 0.7848 - val_loss: 0.4812 - val_acc: 0.8280\n",
      "Epoch 8/12\n",
      "48000/48000 [==============================] - 166s 3ms/step - loss: 0.5586 - acc: 0.7948 - val_loss: 0.4660 - val_acc: 0.8307\n",
      "Epoch 9/12\n",
      "48000/48000 [==============================] - 174s 4ms/step - loss: 0.5387 - acc: 0.8010 - val_loss: 0.4504 - val_acc: 0.8374\n",
      "Epoch 10/12\n",
      "48000/48000 [==============================] - 161s 3ms/step - loss: 0.5244 - acc: 0.8087 - val_loss: 0.4366 - val_acc: 0.8411\n",
      "Epoch 11/12\n",
      "48000/48000 [==============================] - 154s 3ms/step - loss: 0.5130 - acc: 0.8133 - val_loss: 0.4332 - val_acc: 0.8471\n",
      "Epoch 12/12\n",
      "48000/48000 [==============================] - 156s 3ms/step - loss: 0.4968 - acc: 0.8182 - val_loss: 0.4191 - val_acc: 0.8493\n",
      "Test loss: 0.43761494112\n",
      "Test accuracy: 0.8412\n"
     ]
    }
   ],
   "source": [
    "'''Trains a simple convnet on the Zalando MNIST dataset.\n",
    "Gets to 81.03% test accuracy after 30 epochs\n",
    "(there is still a lot of margin for parameter tuning).\n",
    "3 seconds per epoch on a GeForce GTX 980 GPU with CuDNN 5.\n",
    "'''\n",
    "\n",
    "from __future__ import print_function\n",
    "import numpy as np\n",
    "import mnist_reader as mr\n",
    "import keras\n",
    "from keras.models import Sequential\n",
    "from keras.layers import Dense, Dropout, Flatten\n",
    "from keras.layers import Conv2D, MaxPooling2D\n",
    "from keras import backend as K\n",
    "\n",
    "\n",
    "model = Sequential()\n",
    "model.add(Conv2D(32, kernel_size=(3, 3),\n",
    "                 activation='relu',\n",
    "                 input_shape=input_shape))\n",
    "model.add(Conv2D(64, (3, 3), activation='relu'))\n",
    "model.add(MaxPooling2D(pool_size=(2, 2)))\n",
    "model.add(Dropout(0.5))\n",
    "model.add(Flatten())\n",
    "model.add(Dense(128, activation='relu'))\n",
    "model.add(Dropout(0.5))\n",
    "model.add(Dense(num_classes, activation='softmax'))\n",
    "\n",
    "sgd = keras.optimizers.SGD(lr=0.01)\n",
    "model.compile(loss=keras.losses.categorical_crossentropy,\n",
    "              optimizer=sgd,\n",
    "              metrics=['accuracy'])\n",
    "\n",
    "dropout_record = model.fit(x_train, y_train,\n",
    "          batch_size=batch_size,\n",
    "          epochs=epochs,\n",
    "          verbose=1,\n",
    "          validation_split=0.2)\n",
    "score = model.evaluate(x_test, y_test, verbose=0)\n",
    "print('Test loss:', score[0])\n",
    "print('Test accuracy:', score[1])"
   ]
  },
  {
   "cell_type": "code",
   "execution_count": 4,
   "metadata": {
    "collapsed": false
   },
   "outputs": [
    {
     "data": {
      "image/png": "[encoded data removed]",
      "text/plain": [
       "<matplotlib.figure.Figure at 0x1162a6f90>"
      ]
     },
     "metadata": {},
     "output_type": "display_data"
    }
   ],
   "source": [
    "#Plot iter accuracy curve\n",
    "#Store your every iter number and accuracy in tow numpy array \"iter_log\" and \"accuracy_log\"\n",
    "import matplotlib.pyplot as plt\n",
    "%matplotlib inline\n",
    "iter_log = np.empty((0,12),int)\n",
    "train_loss = np.empty((0,12),int)\n",
    "val_loss = np.empty((0,12),int)\n",
    "for i in range(0,12):\n",
    "    iter_log = np.append(iter_log,i)\n",
    "    \n",
    "train_acc = dropout_record.history['acc']\n",
    "val_acc = dropout_record.history['val_acc']\n",
    "\n",
    "ax = plt.subplot(111)\n",
    "plt.plot(iter_log, train_acc, label='train-acc', color=\"#1f77b4\", linewidth=3)\n",
    "plt.plot(iter_log, val_acc, label='val-acc', color=\"#e377c2\", linewidth=3)\n",
    "ax.legend(loc='upper center', bbox_to_anchor=(0.5, 0.2),  shadow=True, ncol=2)\n",
    "plt.show()"
   ]
  },
  {
   "cell_type": "markdown",
   "metadata": {
    "collapsed": true
   },
   "source": [
    "**Dropout :**\n",
    "> 1. 在訓練過程中，Dropout Layer會丟棄一定數量的message，只讓部分發揮作用。而且，由於採用隨機丟棄的方式，每一次進行前向後向計算時，丟棄掉的數據都會有所不同。這樣，模型每一次的前向後向計算的表現都會不同 <br\\>\n",
    "> 2. 沒有dropout的acc會有overfitting的現象，且準確率浮動很大"
   ]
  },
  {
   "cell_type": "code",
   "execution_count": null,
   "metadata": {
    "collapsed": true
   },
   "outputs": [],
   "source": []
  }
 ],
 "metadata": {
  "kernelspec": {
   "display_name": "Python 2",
   "language": "python",
   "name": "python2"
  },
  "language_info": {
   "codemirror_mode": {
    "name": "ipython",
    "version": 2
   },
   "file_extension": ".py",
   "mimetype": "text/x-python",
   "name": "python",
   "nbconvert_exporter": "python",
   "pygments_lexer": "ipython2",
   "version": "2.7.11"
  }
 },
 "nbformat": 4,
 "nbformat_minor": 0
}
